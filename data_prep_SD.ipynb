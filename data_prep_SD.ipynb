{
 "cells": [
  {
   "cell_type": "code",
   "execution_count": null,
   "metadata": {},
   "outputs": [
    {
     "ename": "FileNotFoundError",
     "evalue": "[Errno 2] No such file or directory: 'HoPla_Corn.json'",
     "output_type": "error",
     "traceback": [
      "\u001b[0;31m---------------------------------------------------------------------------\u001b[0m",
      "\u001b[0;31mFileNotFoundError\u001b[0m                         Traceback (most recent call last)",
      "Cell \u001b[0;32mIn[3], line 46\u001b[0m\n\u001b[1;32m      3\u001b[0m \u001b[38;5;66;03m# here we are using parameters for prior-preservation and validation as well.\u001b[39;00m\n\u001b[1;32m      4\u001b[0m concepts_list \u001b[38;5;241m=\u001b[39m [\n\u001b[1;32m      5\u001b[0m     {\n\u001b[1;32m      6\u001b[0m         \u001b[38;5;124m\"\u001b[39m\u001b[38;5;124minstance_prompt\u001b[39m\u001b[38;5;124m\"\u001b[39m:      \u001b[38;5;124m\"\u001b[39m\u001b[38;5;124mA Photo of a HoPla_cirsium\u001b[39m\u001b[38;5;124m\"\u001b[39m,\n\u001b[0;32m   (...)\u001b[0m\n\u001b[1;32m     43\u001b[0m     \n\u001b[1;32m     44\u001b[0m ]\n\u001b[0;32m---> 46\u001b[0m \u001b[38;5;28;01mwith\u001b[39;00m \u001b[38;5;28mopen\u001b[39m(\u001b[38;5;124m\"\u001b[39m\u001b[38;5;124mHoPla_Corn.json\u001b[39m\u001b[38;5;124m\"\u001b[39m) \u001b[38;5;28;01mas\u001b[39;00m f:\n\u001b[1;32m     47\u001b[0m     json\u001b[38;5;241m.\u001b[39mdump(concepts_list, f, indent\u001b[38;5;241m=\u001b[39m\u001b[38;5;241m4\u001b[39m)\n",
      "File \u001b[0;32m~/miniconda3/envs/stab_diff2/lib/python3.12/site-packages/IPython/core/interactiveshell.py:324\u001b[0m, in \u001b[0;36m_modified_open\u001b[0;34m(file, *args, **kwargs)\u001b[0m\n\u001b[1;32m    317\u001b[0m \u001b[38;5;28;01mif\u001b[39;00m file \u001b[38;5;129;01min\u001b[39;00m {\u001b[38;5;241m0\u001b[39m, \u001b[38;5;241m1\u001b[39m, \u001b[38;5;241m2\u001b[39m}:\n\u001b[1;32m    318\u001b[0m     \u001b[38;5;28;01mraise\u001b[39;00m \u001b[38;5;167;01mValueError\u001b[39;00m(\n\u001b[1;32m    319\u001b[0m         \u001b[38;5;124mf\u001b[39m\u001b[38;5;124m\"\u001b[39m\u001b[38;5;124mIPython won\u001b[39m\u001b[38;5;124m'\u001b[39m\u001b[38;5;124mt let you open fd=\u001b[39m\u001b[38;5;132;01m{\u001b[39;00mfile\u001b[38;5;132;01m}\u001b[39;00m\u001b[38;5;124m by default \u001b[39m\u001b[38;5;124m\"\u001b[39m\n\u001b[1;32m    320\u001b[0m         \u001b[38;5;124m\"\u001b[39m\u001b[38;5;124mas it is likely to crash IPython. If you know what you are doing, \u001b[39m\u001b[38;5;124m\"\u001b[39m\n\u001b[1;32m    321\u001b[0m         \u001b[38;5;124m\"\u001b[39m\u001b[38;5;124myou can use builtins\u001b[39m\u001b[38;5;124m'\u001b[39m\u001b[38;5;124m open.\u001b[39m\u001b[38;5;124m\"\u001b[39m\n\u001b[1;32m    322\u001b[0m     )\n\u001b[0;32m--> 324\u001b[0m \u001b[38;5;28;01mreturn\u001b[39;00m io_open(file, \u001b[38;5;241m*\u001b[39margs, \u001b[38;5;241m*\u001b[39m\u001b[38;5;241m*\u001b[39mkwargs)\n",
      "\u001b[0;31mFileNotFoundError\u001b[0m: [Errno 2] No such file or directory: 'HoPla_Corn.json'"
     ]
    }
   ],
   "source": [
    "import json\n",
    "\n",
    "# here we are using parameters for prior-preservation and validation as well.\n",
    "concepts_list = [\n",
    "    {\n",
    "        \"instance_prompt\":      \"A Photo of a HoPla_cirsium\",\n",
    "        \"instance_data_dir\":    \"/home/sourav/stab-diff/stab-diff/DATASETS/SD_bbox_seg256_Corn/HoPla_cirsium\",\n",
    "        \"validation_negative_prompt\": \"big, ugly, noisy, blurry\"\n",
    "    },\n",
    "\n",
    "     {\n",
    "        \"instance_prompt\":      \"A Photo of a HoPla_convlvulus\",\n",
    "        \"instance_data_dir\":    \"/home/sourav/stab-diff/stab-diff/DATASETS/SD_bbox_seg256_Corn/HoPla_convlvulus\",\n",
    "        \"validation_negative_prompt\": \"big, ugly, noisy, blurry\"\n",
    "    },\n",
    "\n",
    "     {\n",
    "        \"instance_prompt\":      \"A Photo of a HoPla_echinochloa\",\n",
    "        \"instance_data_dir\":    \"/home/sourav/stab-diff/stab-diff/DATASETS/SD_bbox_seg256_Corn/HoPla_echinochloa\",\n",
    "        \"validation_negative_prompt\": \"big, ugly, noisy, blurry\"\n",
    "    },\n",
    "\n",
    "    {\n",
    "        \"instance_prompt\":      \"A Photo of a HoPla_fallopia\",\n",
    "        \"instance_data_dir\":    \"/home/sourav/stab-diff/stab-diff/DATASETS/SD_bbox_seg256_Corn/HoPla_fallopia\",\n",
    "        \"validation_negative_prompt\": \"big, ugly, noisy, blurry\"\n",
    "    },\n",
    "\n",
    "     {\n",
    "        \"instance_prompt\":      \"A Photo of a HoPla_Plot\",\n",
    "        \"instance_data_dir\":    \"/home/sourav/stab-diff/stab-diff/DATASETS/SD_bbox_seg256_Corn/HoPla_Plot\",\n",
    "        \"validation_negative_prompt\": \"big, ugly, noisy, blurry\"\n",
    "    },\n",
    "\n",
    "    {\n",
    "        \"instance_prompt\":      \"A Photo of a HoPla_corn\",\n",
    "        \"instance_data_dir\":    \"/home/sourav/stab-diff/stab-diff/DATASETS/SD_bbox_seg256_Corn/HoPla_corn\",\n",
    "        \"validation_negative_prompt\": \"big, ugly, noisy, blurry\"\n",
    "    }\n",
    "\n",
    "\n",
    "    \n",
    "    \n",
    "]\n",
    "\n",
    "with open(\"HoPla_Corn.json\", \"w\") as f:\n",
    "    json.dump(concepts_list, f, indent=4)"
   ]
  }
 ],
 "metadata": {
  "kernelspec": {
   "display_name": "seg_any",
   "language": "python",
   "name": "python3"
  },
  "language_info": {
   "codemirror_mode": {
    "name": "ipython",
    "version": 3
   },
   "file_extension": ".py",
   "mimetype": "text/x-python",
   "name": "python",
   "nbconvert_exporter": "python",
   "pygments_lexer": "ipython3",
   "version": "3.12.1"
  }
 },
 "nbformat": 4,
 "nbformat_minor": 2
}
