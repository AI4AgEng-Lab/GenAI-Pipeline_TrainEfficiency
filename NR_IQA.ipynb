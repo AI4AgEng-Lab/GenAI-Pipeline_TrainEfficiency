{
 "cells": [
  {
   "cell_type": "code",
   "execution_count": null,
   "metadata": {},
   "outputs": [],
   "source": [
    "#!pip install git+https://github.com/chaofengc/IQA-PyTorch.git"
   ]
  },
  {
   "cell_type": "code",
   "execution_count": null,
   "metadata": {},
   "outputs": [],
   "source": [
    "import pyiqa  #ipykernel\n",
    "import torch\n",
    "import os\n",
    "import cv2\n",
    "import torch\n",
    "import os\n",
    "from tqdm import tqdm\n",
    "# list all available metrics\n",
    "print(pyiqa.list_models())\n",
    "\n",
    "device = torch.device(\"cuda\")"
   ]
  },
  {
   "cell_type": "code",
   "execution_count": null,
   "metadata": {},
   "outputs": [],
   "source": [
    "device = torch.device(\"cuda\") if torch.cuda.is_available() else torch.device(\"cpu\")\n",
    "\n",
    "# create metric with default setting\n",
    "metric = pyiqa.create_metric('hyperiqa', device=device)\n",
    "print(metric.lower_better) # True or False"
   ]
  },
  {
   "cell_type": "code",
   "execution_count": null,
   "metadata": {},
   "outputs": [],
   "source": [
    "import torch\n",
    "import cv2\n",
    "import os\n",
    "import numpy as np\n",
    "from tqdm import tqdm\n",
    "\n",
    "# Assuming 'pyiqa' is imported properly, as it's used to create the metric\n",
    "\n",
    "device = torch.device(\"dbcnn\") if torch.cuda.is_available() else torch.device(\"cpu\")\n",
    "\n",
    "# create metric with default setting\n",
    "metric = pyiqa.create_metric('dbcnn', device=device)\n",
    "#metric = metric(input, task_='quality') ##only_for_qalign\n",
    "scores = []\n",
    "syn_images_dir = \"path/to/images\"  # Corrected directory name\n",
    "image_paths = [os.path.join(syn_images_dir, img) for img in os.listdir(syn_images_dir)]  # Corrected variable name\n",
    "# Total number of samples\n",
    "total_samples = len(image_paths)\n",
    "\n",
    "# Use tqdm to show progress bar\n",
    "with tqdm(total=total_samples, desc=\"Processing images\") as pbar:\n",
    "    # Iterate through image paths\n",
    "    for img_path in image_paths:\n",
    "        # Read and resize image to 640x640\n",
    "        image = cv2.imread(img_path)\n",
    "        if image is None or image.size == 0:  # Check if the image is empty or has no pixels\n",
    "            print(f\"Skipping empty file: {img_path}\")\n",
    "            continue\n",
    "        \n",
    "        # Check if the image has non-zero variance of pixel values\n",
    "        if np.var(image) == 0:\n",
    "            print(f\"Skipping image with constant pixel values: {img_path}\")\n",
    "            continue\n",
    "        \n",
    "        image = cv2.resize(image, (640, 640)) # Corrected image size\n",
    "        # Convert image to RGB\n",
    "        image = cv2.cvtColor(image, cv2.COLOR_BGR2RGB) \n",
    "        # Convert image to tensor and permute dimensions\n",
    "        image = torch.from_numpy(image).permute(2, 0, 1).float().to(device)  # Moved to device\n",
    "        # Compute quality score\n",
    "        score = metric(image.unsqueeze(0))  # Metric expects batch dimension\n",
    "        # Append score to list\n",
    "        scores.append(score.item())  # Extracting scalar value\n",
    "        \n",
    "        # Update progress bar\n",
    "        pbar.update(1)\n",
    "\n",
    "# Save scores to txt file\n",
    "with open(\"dbcnn_scores_synthetic_whole_dataset.txt\", \"w\") as file:\n",
    "    for s in scores:\n",
    "        file.write(f\"{s}\\n\")\n",
    "\n",
    "print(\"Scores saved to brisque_scores_synthetic_whole_dataset.txt\")\n"
   ]
  }
 ],
 "metadata": {
  "kernelspec": {
   "display_name": "Python 3 (ipykernel)",
   "language": "python",
   "name": "python3"
  },
  "language_info": {
   "codemirror_mode": {
    "name": "ipython",
    "version": 3
   },
   "file_extension": ".py",
   "mimetype": "text/x-python",
   "name": "python",
   "nbconvert_exporter": "python",
   "pygments_lexer": "ipython3",
   "version": "3.11.5"
  }
 },
 "nbformat": 4,
 "nbformat_minor": 4
}
