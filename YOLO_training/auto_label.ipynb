{
 "cells": [
  {
   "cell_type": "code",
   "execution_count": null,
   "metadata": {},
   "outputs": [],
   "source": [
    "import os\n",
    "from PIL import Image\n",
    "from ultralytics import YOLO\n",
    "\n",
    "def is_image_file(filepath):\n",
    "    try:\n",
    "        with Image.open(filepath) as img:\n",
    "            img.verify()\n",
    "        return True\n",
    "    except (IOError, SyntaxError):\n",
    "        return False\n",
    "\n",
    "def clean_directory(directory):\n",
    "    for filename in os.listdir(directory):\n",
    "        filepath = os.path.join(directory, filename)\n",
    "        if not is_image_file(filepath):\n",
    "            print(f\"Deleting non-image or corrupted file: {filename}\")\n",
    "            os.remove(filepath)\n",
    "\n",
    "# Define path to directory containing images and videos for inference\n",
    "source = 'patha/to/images'\n",
    "\n",
    "# Clean the directory before running inference\n",
    "clean_directory(source)\n",
    "\n",
    "# Load a pretrained YOLOv8n model\n",
    "model = YOLO('best.pt')\n",
    "\n",
    "# Run inference on the source\n",
    "results = model(source, stream=False, save=True, save_txt=True, show_conf=True, show=False, iou=0.5)\n"
   ]
  }
 ],
 "metadata": {
  "kernelspec": {
   "display_name": "JSA",
   "language": "python",
   "name": "python3"
  },
  "language_info": {
   "name": "python",
   "version": "3.9.21"
  }
 },
 "nbformat": 4,
 "nbformat_minor": 2
}
