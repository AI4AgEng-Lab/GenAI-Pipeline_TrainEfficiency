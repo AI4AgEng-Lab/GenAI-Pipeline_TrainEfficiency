{
 "cells": [
  {
   "cell_type": "code",
   "execution_count": null,
   "id": "7dae4921-f009-4739-a522-668db559b119",
   "metadata": {},
   "outputs": [],
   "source": [
    "#!pip install -q diffusers transformers accelerate peft\n",
    "#!pip install scipy\n",
    "#!pip install compel"
   ]
  },
  {
   "cell_type": "code",
   "execution_count": null,
   "id": "70b83618-41e0-466c-89e5-ffb83ff1916c",
   "metadata": {
    "scrolled": true
   },
   "outputs": [],
   "source": [
    "from diffusers import StableDiffusionPipeline, UNet2DConditionModel, DiffusionPipeline, StableDiffusionImg2ImgPipeline,StableDiffusionImageVariationPipeline\n",
    "import torch\n",
    "pipeline = StableDiffusionPipeline.from_pretrained(\"diffusers/examples/research_projects/multi_subject_dreambooth/HoPla_sug_20_full\", torch_dtype=torch.float16, use_safetensors=True,force_download=True).to(\"cuda\")"
   ]
  },
  {
   "cell_type": "code",
   "execution_count": null,
   "id": "7abfbdac-c9d1-4d68-8bfb-0e1d171ae4ca",
   "metadata": {},
   "outputs": [],
   "source": [
    "pipeline.scheduler.compatibles"
   ]
  },
  {
   "cell_type": "code",
   "execution_count": null,
   "id": "c41aec89-1f73-4f78-a8a1-dcc0369ea813",
   "metadata": {},
   "outputs": [],
   "source": [
    "from diffusers import (\n",
    "    DDPMScheduler,\n",
    "    DDIMScheduler,\n",
    "    PNDMScheduler,\n",
    "    LMSDiscreteScheduler,\n",
    "    EulerAncestralDiscreteScheduler,\n",
    "    EulerDiscreteScheduler,\n",
    "    HeunDiscreteScheduler,\n",
    "    DPMSolverMultistepScheduler,\n",
    "    DPMSolverSinglestepScheduler,\n",
    "    KDPM2AncestralDiscreteScheduler\n",
    ")\n",
    "\n",
    "# Uncomment one of the following lines to set the desired scheduler for the pipeline\n",
    "# pipeline.scheduler = DDIMScheduler.from_config(pipeline.scheduler.config)\n",
    "# pipeline.scheduler = LMSDiscreteScheduler.from_config(pipeline.scheduler.config) # Best for multiple generations\n",
    "# pipeline.scheduler = DPMSolverMultistepScheduler.from_config(pipeline.scheduler.config)\n",
    "# pipeline.scheduler = EulerDiscreteScheduler.from_config(pipeline.scheduler.config) # For multiple weed generation, cross attention 1.5\n",
    "pipeline.scheduler = EulerAncestralDiscreteScheduler.from_config(pipeline.scheduler.config) # Best for small objects\n",
    "# pipeline.scheduler = PNDMScheduler.from_config(pipeline.scheduler.config)\n",
    "# pipeline.scheduler = HeunDiscreteScheduler.from_config(pipeline.scheduler.config)\n",
    "# pipeline.scheduler = KDPM2AncestralDiscreteScheduler.from_config(pipeline.scheduler.config) # Better for cottonweed\n",
    "# pipeline.scheduler = DPMSolverSinglestepScheduler.from_config(pipeline.scheduler.config)"
   ]
  },
  {
   "cell_type": "code",
   "execution_count": null,
   "id": "ffca7d24-5774-40c6-8941-d18ca0982c33",
   "metadata": {},
   "outputs": [],
   "source": [
    "from compel import Compel\n",
    "\"\"\"\n",
    "This script initializes a Compel object for text-to-image generation.\n",
    "\n",
    "Classes:\n",
    "    Compel: A class from the compel library used for processing text prompts.\n",
    "\n",
    "Variables:\n",
    "    compel_proc: An instance of the Compel class, initialized with a tokenizer and text encoder from the pipeline.\n",
    "\n",
    "Usage:\n",
    "    The compel_proc object can be used to process text prompts for generating images.\n",
    "\"\"\"\n",
    "compel_proc = Compel(tokenizer=pipeline.tokenizer, text_encoder=pipeline.text_encoder)"
   ]
  },
  {
   "cell_type": "code",
   "execution_count": null,
   "id": "0bc3b0ec-8436-4650-9744-95fb1746b26d",
   "metadata": {},
   "outputs": [],
   "source": [
    "prompt = \"A photo of HoPla Plot Planted with HoPla Plants and Weeds, High quality images, realistic \"\n",
    "prompt_embeds = compel_proc(prompt) #Randomized view #easyy #best prompt"
   ]
  },
  {
   "cell_type": "code",
   "execution_count": null,
   "id": "cc49ed21",
   "metadata": {},
   "outputs": [],
   "source": [
    "prompt = \"A Photo of HoPla Plot Planted with HoPla Fallopia, High quality images, realistic \"\n",
    "prompt_embeds = compel_proc(prompt) #single plant types"
   ]
  },
  {
   "cell_type": "code",
   "execution_count": null,
   "id": "6e6b1738-b773-4ea8-bcec-e67e017397d1",
   "metadata": {},
   "outputs": [],
   "source": [
    "pipeline.enable_freeu(s1=0.6, s2=0.2, b1=1.0, b2=0.4)  # Sometimes it is good to control color"
   ]
  },
  {
   "cell_type": "code",
   "execution_count": null,
   "id": "642631d0-e63c-4e23-828d-1d35ca8e08b8",
   "metadata": {},
   "outputs": [],
   "source": [
    "pipeline.enable_freeu(s1=1.0, s2=0.5, b1=1.3, b2=1.7)"
   ]
  },
  {
   "cell_type": "code",
   "execution_count": null,
   "id": "58edea01-f851-4cba-843d-4f7403566dd0",
   "metadata": {
    "scrolled": true
   },
   "outputs": [],
   "source": [
    "\n",
    "import random\n",
    "num_images = 10\n",
    "gen_images = []\n",
    "\n",
    "# Generate images\n",
    "for i in range(num_images):\n",
    "    # Generate an image using the pipeline with specified parameters\n",
    "    image = pipeline(\n",
    "        prompt_embeds=prompt_embeds,\n",
    "        negative_prompt=(\"macro shot, large plants, distorted perspective, blurry, overexposed, low quality, cluttered background\"),\n",
    "        num_inference_steps=55,\n",
    "        guidance_scale=15.5,\n",
    "        cross_attention_kwargs={'scale': 0.6},\n",
    "        generator=random.seed(1333333333333333227),\n",
    "        cfg_rescale=5,\n",
    "        height=512,\n",
    "        width=512\n",
    "    ).images[0]\n",
    "    \n",
    "    # Append the generated image to the list\n",
    "    gen_images.append(image)\n",
    "    \n",
    "    # Save each generated image with a specific filename\n",
    "    for i, img in enumerate(gen_images):\n",
    "        img.save(f\"Gen_Img/20_/sug_{i + 1}.png\")  #output directory"
   ]
  }
 ],
 "metadata": {
  "kernelspec": {
   "display_name": "Python 3",
   "language": "python",
   "name": "python3"
  },
  "language_info": {
   "codemirror_mode": {
    "name": "ipython",
    "version": 3
   },
   "file_extension": ".py",
   "mimetype": "text/x-python",
   "name": "python",
   "nbconvert_exporter": "python",
   "pygments_lexer": "ipython3",
   "version": "3.10.12"
  }
 },
 "nbformat": 4,
 "nbformat_minor": 5
}
